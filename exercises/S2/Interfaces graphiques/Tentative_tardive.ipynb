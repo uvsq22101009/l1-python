{
 "cells": [
  {
   "cell_type": "code",
   "execution_count": null,
   "metadata": {},
   "outputs": [],
   "source": [
    "import tkinter as tk\n",
    "\n",
    "racine = tk.Tk() # Création de la fenêtre racine (début)\n",
    "racine.title(\"Un premier exemple\") # ajoute un titre\n",
    "\n",
    "label1 = tk.Label(racine, text=\"Un texte long dans ma fenêtre\", font = (\"helvetica\", \"30\")) # création d'un widget\n",
    "label2 = tk.Label(racine, text=\"toto\", font = (\"helvetica\", \"30\")) # création d'un widget\n",
    "\n",
    "label1.grid(column=0, row=0) # positionnement du premier widget\n",
    "label2.grid(row=1, column=0) # positionnement du premier widget\n",
    "\n",
    "racine.mainloop() # Lancement de la boucle principale (fin)"
   ]
  },
  {
   "cell_type": "code",
   "execution_count": null,
   "metadata": {},
   "outputs": [],
   "source": [
    "res = 1 \n",
    "for i in [2, 5, 4]: \n",
    "    for j in [7, 1, 2]: \n",
    "        res += i - j\n",
    "print(res) "
   ]
  },
  {
   "cell_type": "code",
   "execution_count": null,
   "metadata": {},
   "outputs": [],
   "source": [
    "import numpy as np\n",
    "a = np.arange(2,5,2) # Sort une liste\n",
    "print(a,\"\\n\")\n",
    "\n",
    "mat = np.random.choice(np.arange(2,5,2), p=[0.9, 0.1])\n",
    "print((str(mat)+\"\\n\")*10)"
   ]
  },
  {
   "cell_type": "code",
   "execution_count": 8,
   "metadata": {},
   "outputs": [
    {
     "name": "stdout",
     "output_type": "stream",
     "text": [
      "3\n"
     ]
    }
   ],
   "source": [
    "import random as rd\n",
    "print(rd.randint(0, 10)) "
   ]
  }
 ],
 "metadata": {
  "interpreter": {
   "hash": "08497d5c77c062cc6ea3f92950791f26a0aa121d83a4bd301d48c14ce21f3082"
  },
  "kernelspec": {
   "display_name": "Python 3.9.7 ('l1-python')",
   "language": "python",
   "name": "python3"
  },
  "language_info": {
   "codemirror_mode": {
    "name": "ipython",
    "version": 3
   },
   "file_extension": ".py",
   "mimetype": "text/x-python",
   "name": "python",
   "nbconvert_exporter": "python",
   "pygments_lexer": "ipython3",
   "version": "3.9.7"
  },
  "orig_nbformat": 4
 },
 "nbformat": 4,
 "nbformat_minor": 2
}
