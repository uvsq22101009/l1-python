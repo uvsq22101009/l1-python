{
 "cells": [
  {
   "cell_type": "code",
   "execution_count": 2,
   "metadata": {},
   "outputs": [],
   "source": [
    "import tkinter as tk\n",
    "\n",
    "racine = tk.Tk() # Création de la fenêtre racine (début)\n",
    "racine.title(\"Un premier exemple\") # ajoute un titre\n",
    "\n",
    "label1 = tk.Label(racine, text=\"Un texte long dans ma fenêtre\", font = (\"helvetica\", \"30\")) # création d'un widget\n",
    "label2 = tk.Label(racine, text=\"toto\", font = (\"helvetica\", \"30\")) # création d'un widget\n",
    "\n",
    "label1.grid(column=0, row=0) # positionnement du premier widget\n",
    "label2.grid(row=1, column=0) # positionnement du premier widget\n",
    "\n",
    "racine.mainloop() # Lancement de la boucle principale (fin)"
   ]
  },
  {
   "cell_type": "code",
   "execution_count": 2,
   "metadata": {},
   "outputs": [
    {
     "name": "stdout",
     "output_type": "stream",
     "text": [
      "4\n"
     ]
    }
   ],
   "source": [
    "res = 1 \n",
    "for i in [2, 5, 4]: \n",
    "    for j in [7, 1, 2]: \n",
    "        res += i - j\n",
    "print(res) "
   ]
  }
 ],
 "metadata": {
  "interpreter": {
   "hash": "6212c03c9dfca48bd8102c3077b584a07cf8fe05d66c38ad125164805173c3fa"
  },
  "kernelspec": {
   "display_name": "Python 3.9.7 ('l1-python')",
   "language": "python",
   "name": "python3"
  },
  "language_info": {
   "codemirror_mode": {
    "name": "ipython",
    "version": 3
   },
   "file_extension": ".py",
   "mimetype": "text/x-python",
   "name": "python",
   "nbconvert_exporter": "python",
   "pygments_lexer": "ipython3",
   "version": "3.9.7"
  },
  "orig_nbformat": 4
 },
 "nbformat": 4,
 "nbformat_minor": 2
}
