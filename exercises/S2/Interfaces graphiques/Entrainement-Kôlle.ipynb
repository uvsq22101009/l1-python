{
 "cells": [
  {
   "cell_type": "markdown",
   "metadata": {},
   "source": [
    "Salut, \n",
    "Juste pour dire que t'es vraiment dans le merde mec alors tu ferais bien de te dépêcher de travailler si tu veux pas finir au Mcdo dans quelques mois\n",
    "Biz"
   ]
  },
  {
   "cell_type": "code",
   "execution_count": null,
   "metadata": {},
   "outputs": [],
   "source": []
  }
 ],
 "metadata": {
  "language_info": {
   "name": "python"
  },
  "orig_nbformat": 4
 },
 "nbformat": 4,
 "nbformat_minor": 2
}
