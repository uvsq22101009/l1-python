{
 "cells": [
  {
   "cell_type": "code",
   "execution_count": null,
   "metadata": {},
   "outputs": [],
   "source": [
    "#1\n",
    "res = 0 \n",
    "for i in range [1, 3, 4]: \n",
    "    for j in range[4, 6, 2]:\n",
    "        res += i-j\n",
    "print(res)\n",
    "\n",
    "# Réponses : -8 / -9 / -4 / -12"
   ]
  },
  {
   "cell_type": "code",
   "execution_count": null,
   "metadata": {},
   "outputs": [],
   "source": [
    "#2\n",
    "a = [5, 3, 6]\n",
    "x = 3 \n",
    "b, y = a, x\n",
    "a[0] = 0\n",
    "x = 1 \n",
    "print(b[0], y)\n",
    "\n",
    "# Réponses : 0 3 / 0 1 / 5 1 / 5 3"
   ]
  },
  {
   "cell_type": "code",
   "execution_count": null,
   "metadata": {},
   "outputs": [],
   "source": [
    "#3\n",
    "def g(x): \n",
    "    return -x + 3\n",
    "def f(x): \n",
    "    return g(x) * 2\n",
    "print(f(g(4)))\n",
    "\n",
    "# Réponses : 2 / 1 / 8 / 4"
   ]
  },
  {
   "cell_type": "code",
   "execution_count": null,
   "metadata": {},
   "outputs": [],
   "source": [
    "#4 \n",
    "def f(a, x): \n",
    "    a[0], x = 0, 0\n",
    "b = [1]\n",
    "y = 2 \n",
    "f(b, y)\n",
    "print(b[0], y)\n",
    "\n",
    "# Réponses : 1 0 / 0 2 / 1 2 / 0 0"
   ]
  },
  {
   "cell_type": "code",
   "execution_count": null,
   "metadata": {},
   "outputs": [],
   "source": [
    "#5 \n",
    "def f(x): \n",
    "    return 10 - x\n",
    "i, res = 0, 0\n",
    "while i < f(i): \n",
    "    res += 1\n",
    "    i += 1\n",
    "print(res)\n",
    "\n",
    "# Réponses : 6 /10 / 7 / 15"
   ]
  },
  {
   "cell_type": "code",
   "execution_count": null,
   "metadata": {},
   "outputs": [],
   "source": [
    "#6 \n",
    "def g(x): \n",
    "    x.append(x[-1] + x[0])\n",
    "    return x \n",
    "u = [2, 1]\n",
    "g(g(g(u)))\n",
    "print(u)\n",
    "\n",
    "# Réponses : [2, 1, 3, 5, 7] / [2, 1, 3, 6, 12] / [2, 1] / Une erreur est signalée"
   ]
  },
  {
   "cell_type": "code",
   "execution_count": null,
   "metadata": {},
   "outputs": [],
   "source": [
    "#7 \n",
    "fic = open(\"result.txt\", \"w\")\n",
    "for i in [\"5\", \"3\", \"6\", \"4\"]:\n",
    "    fic.write(i)\n",
    "fic.close()\n",
    "\n",
    "# Réponses : 5364 / '5''3''6''4' / '5' '3' '6' '4' / Une erreur est signalée "
   ]
  },
  {
   "cell_type": "code",
   "execution_count": null,
   "metadata": {},
   "outputs": [],
   "source": [
    "#8 \n",
    "a = [6, 4, 2, 5]\n",
    "b = [a]\n",
    "b [-1][-1] = 0\n",
    "print(a)\n",
    "\n",
    "# Réponses : [6, 4, 2, 0] / [6, 4, 2, 5] / Une erreur est signalée / 6, 4, 2, 5 "
   ]
  },
  {
   "cell_type": "code",
   "execution_count": null,
   "metadata": {},
   "outputs": [],
   "source": [
    "#9 \n",
    "def f(x): \n",
    "    global a\n",
    "    a = 1 - a\n",
    "    return a * x\n",
    "a, res = 0, 0\n",
    "\n",
    "for e in [3, 7, 2, 5, 6]: \n",
    "    res += f(e)\n",
    "print(res)\n",
    "\n",
    "# Réponses : 11 / 23 / 12 / 0"
   ]
  },
  {
   "cell_type": "code",
   "execution_count": null,
   "metadata": {},
   "outputs": [],
   "source": [
    "#10\n",
    "def g(b): \n",
    "    b[0], b[1] = b[1] + 1, b[0] - 1\n",
    "a = [4, 2]\n",
    "for i in range(5): \n",
    "    g(a)\n",
    "print(a)\n",
    "\n",
    "# Réponses : [4, 3] / [3, 3] / [5, 2] / [4, 2]"
   ]
  },
  {
   "cell_type": "code",
   "execution_count": null,
   "metadata": {},
   "outputs": [],
   "source": [
    "#11\n",
    "def f(u, x): \n",
    "    u = u + [x]\n",
    "a = []\n",
    "for i in range(1, 4):\n",
    "    f(a, 1)\n",
    "print(a)\n",
    "\n",
    "# Réponses : [1, 2, 3] / [1, 2, 3, 4] / [1, [2, [3]]] / []"
   ]
  },
  {
   "cell_type": "code",
   "execution_count": null,
   "metadata": {},
   "outputs": [],
   "source": [
    "#12 \n",
    "def f(x): \n",
    "    if x%2 == 0: \n",
    "        x = 2 * x + 1\n",
    "    if x%2 == 1:\n",
    "        x = x + 3\n",
    "    return x\n",
    "print(f(2), f(3))\n",
    "\n",
    "# Réponses : 5, 6 / 6 5 / 8 6 / 5 6"
   ]
  },
  {
   "cell_type": "code",
   "execution_count": null,
   "metadata": {},
   "outputs": [],
   "source": [
    "#13 \n",
    "for j in range(10):\n",
    "    if j % 3 == 0: \n",
    "        res += j\n",
    "    else: \n",
    "        res += 2\n",
    "print(res)\n",
    "\n",
    "# Réponses : 0 / 145 / Une erreur est signalée / 81"
   ]
  },
  {
   "cell_type": "code",
   "execution_count": null,
   "metadata": {},
   "outputs": [],
   "source": [
    "#14 \n",
    "def f(x): \n",
    "    y = 0 \n",
    "    x += 1\n",
    "x, y = 2, 3\n",
    "print(x, y)\n",
    "\n",
    "# Réponses : 3 3 / 2 0 / 2 3 / 3 0"
   ]
  },
  {
   "cell_type": "code",
   "execution_count": null,
   "metadata": {},
   "outputs": [],
   "source": [
    "#15 \n",
    "def f(a, b): \n",
    "    a = b + a\n",
    "u = [0, 2]\n",
    "v = [3, 1]\n",
    "f(u, v)\n",
    "print(u[0], u[-1])\n",
    "\n",
    "# Répnses : 3 3 / 3 2 / 3 1 / 0 2"
   ]
  },
  {
   "cell_type": "code",
   "execution_count": null,
   "metadata": {},
   "outputs": [],
   "source": [
    "#16 \n",
    "a = []\n",
    "for i in range(10): \n",
    "    b = []\n",
    "    for j in range(4):\n",
    "        b.append(i-j)\n",
    "    a.append(b)\n",
    "print(a[2][4])"
   ]
  }
 ],
 "metadata": {
  "interpreter": {
   "hash": "6212c03c9dfca48bd8102c3077b584a07cf8fe05d66c38ad125164805173c3fa"
  },
  "kernelspec": {
   "display_name": "Python 3.9.7 ('l1-python')",
   "language": "python",
   "name": "python3"
  },
  "language_info": {
   "codemirror_mode": {
    "name": "ipython",
    "version": 3
   },
   "file_extension": ".py",
   "mimetype": "text/x-python",
   "name": "python",
   "nbconvert_exporter": "python",
   "pygments_lexer": "ipython3",
   "version": "3.9.7"
  },
  "orig_nbformat": 4
 },
 "nbformat": 4,
 "nbformat_minor": 2
}
