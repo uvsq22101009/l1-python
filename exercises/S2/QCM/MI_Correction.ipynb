{
 "cells": [
  {
   "cell_type": "code",
   "execution_count": null,
   "metadata": {},
   "outputs": [],
   "source": [
    "#1\n",
    "res = 0 \n",
    "for i in range [1, 3, 4]: \n",
    "    for j in range[4, 6, 2]:\n",
    "        res += i-j\n",
    "print(res)\n",
    "\n",
    "# Réponses : -8 / -9 / -4 / -12"
   ]
  },
  {
   "cell_type": "code",
   "execution_count": null,
   "metadata": {},
   "outputs": [],
   "source": [
    "#2\n",
    "a = [5, 3, 6]\n",
    "x = 3 \n",
    "b, y = a, x\n",
    "a[0] = 0\n",
    "x = 1 \n",
    "print(b[0], y)\n",
    "\n",
    "# Réponses : 0 3 / 0 1 / 5 1 / 5 3"
   ]
  },
  {
   "cell_type": "code",
   "execution_count": null,
   "metadata": {},
   "outputs": [],
   "source": [
    "#3\n",
    "def g(x): \n",
    "    return -x + 3\n",
    "def f(x): \n",
    "    return g(x) * 2\n",
    "print(f(g(4)))\n",
    "\n",
    "# Réponses : 2 / 1 / 8 / 4"
   ]
  },
  {
   "cell_type": "code",
   "execution_count": null,
   "metadata": {},
   "outputs": [],
   "source": [
    "#4 \n",
    "def f(a, x): \n",
    "    a[0], x = 0, 0\n",
    "b = [1]\n",
    "y = 2 \n",
    "f(b, y)\n",
    "print(b[0], y)\n",
    "\n",
    "# Réponses : 1 0 / 0 2 / 1 2 / 0 0"
   ]
  },
  {
   "cell_type": "code",
   "execution_count": null,
   "metadata": {},
   "outputs": [],
   "source": [
    "#5 \n",
    "def f(x): \n",
    "    return 10 - x\n",
    "i, res = 0, 0\n",
    "while i < f(i): \n",
    "    res += 1\n",
    "    i += 1\n",
    "print(res)\n",
    "\n",
    "# Réponses : 6 /10 / 7 / 15"
   ]
  },
  {
   "cell_type": "code",
   "execution_count": null,
   "metadata": {},
   "outputs": [],
   "source": [
    "#6 \n",
    "def g(x): \n",
    "    x.append(x[-1] + x[0])\n",
    "    return x \n",
    "u = [2, 1]\n",
    "g(g(g(u)))\n",
    "print(u)\n",
    "\n",
    "# Réponses : [2, 1, 3, 5, 7] / [2, 1, 3, 6, 12] / [2, 1] / Une erreur est signalée"
   ]
  },
  {
   "cell_type": "code",
   "execution_count": null,
   "metadata": {},
   "outputs": [],
   "source": [
    "#7 \n",
    "fic = open(\"result.txt\", \"w\")\n",
    "for i in [\"5\", \"3\", \"6\", \"4\"]:\n",
    "    fic.write(i)\n",
    "fic.close()\n",
    "\n",
    "# Réponses : 5364 / '5''3''6''4' / '5' '3' '6' '4' / Une erreur est signalée "
   ]
  },
  {
   "cell_type": "code",
   "execution_count": null,
   "metadata": {},
   "outputs": [],
   "source": [
    "#8 \n",
    "a = [6, 4, 2, 5]\n",
    "b = [a]\n",
    "b [-1][-1] = 0\n",
    "print(a)"
   ]
  }
 ],
 "metadata": {
  "interpreter": {
   "hash": "6212c03c9dfca48bd8102c3077b584a07cf8fe05d66c38ad125164805173c3fa"
  },
  "kernelspec": {
   "display_name": "Python 3.9.7 ('l1-python')",
   "language": "python",
   "name": "python3"
  },
  "language_info": {
   "codemirror_mode": {
    "name": "ipython",
    "version": 3
   },
   "file_extension": ".py",
   "mimetype": "text/x-python",
   "name": "python",
   "nbconvert_exporter": "python",
   "pygments_lexer": "ipython3",
   "version": "3.9.7"
  },
  "orig_nbformat": 4
 },
 "nbformat": 4,
 "nbformat_minor": 2
}
