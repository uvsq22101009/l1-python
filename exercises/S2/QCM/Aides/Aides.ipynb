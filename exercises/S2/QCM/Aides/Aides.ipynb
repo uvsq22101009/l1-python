{
 "cells": [
  {
   "cell_type": "markdown",
   "metadata": {},
   "source": [
    "# Fichiers"
   ]
  },
  {
   "cell_type": "markdown",
   "metadata": {},
   "source": [
    "## I - écrire dans u fichier"
   ]
  },
  {
   "cell_type": "code",
   "execution_count": 1,
   "metadata": {},
   "outputs": [],
   "source": [
    "f = open(\"essai\", \"w\") # Ouvre le fichier \"essai\" et d'écrire (\"w\")\n",
    "f.write(\"hello world\") # cris \"hello world\" dans le fichier \"essai\"\n",
    "f.close() # Ferme le fichier "
   ]
  },
  {
   "cell_type": "markdown",
   "metadata": {},
   "source": [
    "1. Identifiant_du_fichier = open ( \"Nom_du_fichier\" , \"action\" ) ([Actions possibles](https://www.programiz.com/python-programming/methods/built-in/open))\n",
    "\n",
    "    - fic = open(\"truc\", \"w\") : Ouvre (ou remplace) le fichier \"truc\" pour écrire dedans\n",
    "---\n",
    "2. Identifiant_du_fichier = **write**.( \"BlaBlaBla\" )\n",
    "\n",
    "    - écris BlaBlaBla dans le fichier précédemment ouvert\n",
    "    - pas de retour à la ligne (si on veut retourner à la ligne, on doit mettre + \"\\n\" à la fin)\n",
    "    - \"BlaBlaBla\" est **obligatoirement** une chaine de caractère (si *a*=2, alors *a* n'est pas une chaîne de caratère, il faut écrire str(*a*) à la place)\n",
    "---\n",
    "3. Identifiant_du_fichier.close( )\n",
    "\n",
    "\n",
    "    - libère le fichier pour un usage externe"
   ]
  },
  {
   "cell_type": "markdown",
   "metadata": {},
   "source": [
    "Exemple : (génération d'une liste de 10 notes)"
   ]
  },
  {
   "cell_type": "code",
   "execution_count": 12,
   "metadata": {},
   "outputs": [],
   "source": [
    "import random as rd\n",
    "\n",
    "fic = open(\"notes\", \"w\")\n",
    "for i in range(10):\n",
    "    n = rd.randint(0, 20)\n",
    "    fic.write(str(n) + \"\\n\")\n",
    "fic.close()"
   ]
  },
  {
   "cell_type": "markdown",
   "metadata": {},
   "source": [
    "## II - Lire un fichier"
   ]
  },
  {
   "cell_type": "markdown",
   "metadata": {},
   "source": [
    "Ce programme cherche à lire et afficher les données du ficher \"notes\""
   ]
  },
  {
   "cell_type": "code",
   "execution_count": null,
   "metadata": {},
   "outputs": [],
   "source": [
    "fic = open(\"notes\",\"r\")\n",
    "\n",
    "for ligne in fic:\n",
    "    print(ligne)\n",
    "\n",
    "fic.close()"
   ]
  },
  {
   "cell_type": "markdown",
   "metadata": {},
   "source": [
    "1. Identifiant_du_fichier = open ( \"Nom_du_fichier\" , \"action\" ) ([Actions possibles](https://www.programiz.com/python-programming/methods/built-in/open))\n",
    "\n",
    "    - fic = open(\"essai\", \"r\") : Ouvre le fichier \"essai\" pour le lire \n",
    "---\n",
    "2. for ligne in Identifiant_du_fichier:\n",
    "\n",
    "    - permet de lire chaque ligne du fichier \n",
    "    - associer à \"print(ligne)\", cela permet d'afficher dans le terminal chaque ligne\n",
    "---"
   ]
  },
  {
   "cell_type": "markdown",
   "metadata": {},
   "source": [
    "## III - Diviser une chaîne de caracatère : "
   ]
  },
  {
   "cell_type": "markdown",
   "metadata": {},
   "source": [
    "Il est possible de couper une chaîne de caractère pour mettre chaque bout dans une liste. \n",
    "\n",
    "Pour cela, on peut utiliser la méthode **.split** :"
   ]
  },
  {
   "cell_type": "code",
   "execution_count": 15,
   "metadata": {},
   "outputs": [
    {
     "name": "stdout",
     "output_type": "stream",
     "text": [
      "['Lundi', '5', 'avril', '2021', 'est', 'férié']\n"
     ]
    }
   ],
   "source": [
    "var = \"Lundi 5 avril 2021 est férié\"\n",
    "liste = var.split()\n",
    "print(liste)"
   ]
  }
 ],
 "metadata": {
  "interpreter": {
   "hash": "6212c03c9dfca48bd8102c3077b584a07cf8fe05d66c38ad125164805173c3fa"
  },
  "kernelspec": {
   "display_name": "Python 3.9.7 ('l1-python')",
   "language": "python",
   "name": "python3"
  },
  "language_info": {
   "codemirror_mode": {
    "name": "ipython",
    "version": 3
   },
   "file_extension": ".py",
   "mimetype": "text/x-python",
   "name": "python",
   "nbconvert_exporter": "python",
   "pygments_lexer": "ipython3",
   "version": "3.9.7"
  },
  "orig_nbformat": 4
 },
 "nbformat": 4,
 "nbformat_minor": 2
}
