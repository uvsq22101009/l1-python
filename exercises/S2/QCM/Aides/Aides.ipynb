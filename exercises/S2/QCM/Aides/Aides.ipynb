{
 "cells": [
  {
   "cell_type": "markdown",
   "metadata": {},
   "source": [
    "# Fichiers"
   ]
  },
  {
   "cell_type": "code",
   "execution_count": 1,
   "metadata": {},
   "outputs": [],
   "source": [
    "f = open(\"essai\", \"w\") # Ouvre le fichier \"essai\" et d'écrire (\"w\")\n",
    "f.write(\"hello world\") # cris \"hello world\" dans le fichier \"essai\"\n",
    "f.close() # Ferme le fichier "
   ]
  },
  {
   "cell_type": "markdown",
   "metadata": {},
   "source": [
    "1. Identifiant_du_fichier = open ( \"Nom_du_fichier\" , \"action\" )\n",
    "\n",
    "    [Action](https://www.programiz.com/python-programming/methods/built-in/open) :\n",
    "    - fic = open(\"essai\", \"r\") : Ouvre le fichier \"essai\" pour le lire \n",
    "    - fic = open(\"truc\", \"w\") : Ouvre (ou remplace) le fichier \"truc\" pour écrire dedans\n",
    "---\n",
    "2. Identifiant_du_fichier = **write**.( \"BlaBlaBla\" )\n",
    "\n",
    "    - écris BlaBlaBla dans le fichier précédemment ouvert\n",
    "    - pas de retour à la ligne (si on veut retourner à la ligne, alors on doit mettre + \"\\n\" à la fin)\n",
    "    - \"BlaBlaBla\" est **obligatoirement** une chaine de caractère (si a n'est pas une chaîne de caratère, alors il faut écrire str(a) à la place de \"text\")\n",
    "---\n",
    "3. Identifiant_du_fichier.close()\n",
    "\n",
    "\n",
    "    - libère le fichier pour un usage externe\n",
    "    - écrit tout ce qui est dans le buffer dans le fichier.\n",
    "---"
   ]
  }
 ],
 "metadata": {
  "interpreter": {
   "hash": "6212c03c9dfca48bd8102c3077b584a07cf8fe05d66c38ad125164805173c3fa"
  },
  "kernelspec": {
   "display_name": "Python 3.9.7 ('l1-python')",
   "language": "python",
   "name": "python3"
  },
  "language_info": {
   "codemirror_mode": {
    "name": "ipython",
    "version": 3
   },
   "file_extension": ".py",
   "mimetype": "text/x-python",
   "name": "python",
   "nbconvert_exporter": "python",
   "pygments_lexer": "ipython3",
   "version": "3.9.7"
  },
  "orig_nbformat": 4
 },
 "nbformat": 4,
 "nbformat_minor": 2
}
