{
 "cells": [
  {
   "cell_type": "markdown",
   "metadata": {},
   "source": [
    "Pour créer cette page, il faut simplement faire : Nom_du_Fichier.ipynb"
   ]
  },
  {
   "cell_type": "code",
   "execution_count": 28,
   "metadata": {},
   "outputs": [],
   "source": [
    "fic = open(\"essai\", \"w\") # variable = open(\"Nom_du_fichier\", \"w = écrire\") \n",
    "fic.write(\"hello world\") # permet d'écrire un texte dans le fichier \n",
    "fic.close()"
   ]
  },
  {
   "cell_type": "code",
   "execution_count": 43,
   "metadata": {},
   "outputs": [
    {
     "name": "stdout",
     "output_type": "stream",
     "text": [
      "Tata 15 5 13\n",
      "\n",
      "TÃ©tÃ© 10 8 19\n",
      "\n",
      "Titi 3 9 7\n",
      "\n",
      "Toto 15 17 11\n",
      "\n",
      "Tutu 9 10 12\n"
     ]
    }
   ],
   "source": [
    "fichier = open(\"notes\", \"r\")\n",
    "for ligne in fichier:\n",
    "    print(ligne)\n",
    "fichier.close()\n",
    "\n",
    "\n",
    "fichier = open(\"interm\", \"w\")\n",
    "\n",
    "mTa=(15+5+13)/3\n",
    "mTa = round(mTa, 2)\n",
    "fichier.write(str(mTa)+\"\\n\")\n",
    "\n",
    "mTé=(10+9+19)/3\n",
    "mTé = round(mTé, 2)\n",
    "fichier.write(str(mTé)+\"\\n\")\n",
    "\n",
    "mTi=(3+9+7)/3\n",
    "mTi = round(mTi, 2)\n",
    "fichier.write(str(mTi)+\"\\n\")\n",
    "\n",
    "mTo=(15+17+11)/3\n",
    "mTo = round(mTo, 2)\n",
    "fichier.write(str(mTo)+\"\\n\")\n",
    "\n",
    "mTu=(9+10+12)/3\n",
    "mTu = round(mTu, 2)\n",
    "fichier.write(str(mTu))\n",
    "\n",
    "fichier.close()"
   ]
  },
  {
   "cell_type": "code",
   "execution_count": 3,
   "metadata": {},
   "outputs": [
    {
     "name": "stdout",
     "output_type": "stream",
     "text": [
      "Tata 15 5 13\n",
      "\n",
      "TÃ©tÃ© 10 8 19\n",
      "\n",
      "Titi 3 9 7\n",
      "\n",
      "Toto 15 17 11\n",
      "\n",
      "Tutu 9 10 12\n",
      "11.0\n",
      "\n",
      "12.67\n",
      "\n",
      "6.33\n",
      "\n",
      "14.33\n",
      "\n",
      "10.33\n"
     ]
    },
    {
     "data": {
      "text/plain": [
       "<function TextIOWrapper.close()>"
      ]
     },
     "execution_count": 3,
     "metadata": {},
     "output_type": "execute_result"
    }
   ],
   "source": [
    "fichier = open('notes', 'r')\n",
    "for ligne in fichier:\n",
    "    print(ligne)\n",
    "\n",
    "fichier = open('interm', 'r')\n",
    "for ligne in fichier:\n",
    "    print(ligne)\n",
    "\n",
    "fichier = open('moyenne', 'w')\n",
    "fichier.close"
   ]
  }
 ],
 "metadata": {
  "interpreter": {
   "hash": "6212c03c9dfca48bd8102c3077b584a07cf8fe05d66c38ad125164805173c3fa"
  },
  "kernelspec": {
   "display_name": "Python 3.9.7 ('l1-python')",
   "language": "python",
   "name": "python3"
  },
  "language_info": {
   "codemirror_mode": {
    "name": "ipython",
    "version": 3
   },
   "file_extension": ".py",
   "mimetype": "text/x-python",
   "name": "python",
   "nbconvert_exporter": "python",
   "pygments_lexer": "ipython3",
   "version": "3.9.7"
  },
  "orig_nbformat": 4
 },
 "nbformat": 4,
 "nbformat_minor": 2
}
